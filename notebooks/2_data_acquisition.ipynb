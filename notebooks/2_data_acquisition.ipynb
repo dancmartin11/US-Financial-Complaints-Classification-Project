{
 "cells": [
  {
   "cell_type": "markdown",
   "id": "01a9db80",
   "metadata": {},
   "source": [
    "# 2. Data Acquisition\n",
    "<strong>Quejas de los Usuarios de Servicios Financieros en Estados Unidos</strong>"
   ]
  },
  {
   "cell_type": "markdown",
   "id": "37d1c0ee",
   "metadata": {},
   "source": [
    "---\n"
   ]
  },
  {
   "cell_type": "markdown",
   "id": "5933a025",
   "metadata": {},
   "source": [
    "Primero, se importan las librerías requeridas:"
   ]
  },
  {
   "cell_type": "code",
   "execution_count": 1,
   "id": "a20dc612",
   "metadata": {},
   "outputs": [],
   "source": [
    "# Importación de datos y gestión de rutas\n",
    "import sys\n",
    "import os\n",
    "sys.path.append('..') # Folder principal del projecto\n",
    "from config import RAW_DATA_DIR, RAW_DATA_PATH\n",
    "\n",
    "import gdown\n",
    "\n",
    "# Manejo de datos\n",
    "import pandas as pd\n",
    "\n",
    "#Filtrar warnings\n",
    "import warnings\n",
    "warnings.filterwarnings('ignore')"
   ]
  },
  {
   "cell_type": "markdown",
   "id": "26197e31",
   "metadata": {},
   "source": [
    "## 2.1 Cargar el dataset"
   ]
  },
  {
   "cell_type": "markdown",
   "id": "da318063",
   "metadata": {},
   "source": [
    "<p style=\"text-align: justify;\">El dataset \"US Consumer Financial Complaints\", obtenido de la plataforma Kaggle, presenta de manera detallada un listado de quejas por parte de diversos usuarios de servicios financieros en Estados Unidos hacia la Oficina para la Protección Financiera del Consumidor. A continuación, se realizará un diagnóstico analizando distintas variables que componen al dataset, con la finalidad de obtener insights relevantes para posteriormente crear un modelo que nos permita conocer si la resolución por parte de las compañías ante una problemática o queja por parte de sus usuarios será satisfactoria para ellos, o si habrá descontento y buscarán luchar por una resolución distinta.<p/>"
   ]
  },
  {
   "cell_type": "code",
   "execution_count": 2,
   "id": "2301eeba",
   "metadata": {},
   "outputs": [
    {
     "name": "stderr",
     "output_type": "stream",
     "text": [
      "Downloading...\n",
      "From (original): https://drive.google.com/uc?id=11dX_mR6xWKubBKsgQyhDdN2R6S8oAV4G\n",
      "From (redirected): https://drive.google.com/uc?id=11dX_mR6xWKubBKsgQyhDdN2R6S8oAV4G&confirm=t&uuid=17918a53-83cf-4a42-a055-07976918421c\n",
      "To: c:\\Users\\dancm\\OneDrive\\Documentos\\Courses\\Carrera Data Scientist\\Data Science\\Desafíos\\17. Proyecto Final\\data\\raw\\raw_data.csv\n",
      "100%|██████████| 175M/175M [00:18<00:00, 9.31MB/s] "
     ]
    },
    {
     "name": "stdout",
     "output_type": "stream",
     "text": [
      "Se descargó el conjunto de datos de manera existosa en la ruta: c:\\Users\\dancm\\OneDrive\\Documentos\\Courses\\Carrera Data Scientist\\Data Science\\Desafíos\\17. Proyecto Final\\data\\raw\\raw_data.csv\n"
     ]
    },
    {
     "name": "stderr",
     "output_type": "stream",
     "text": [
      "\n"
     ]
    }
   ],
   "source": [
    "#Asignar la ruta del archivo y descargarlo utilizando el modulo \"gdwon\",ya que se trata de un dataset bastante pesado.\n",
    "url = 'https://drive.google.com/file/d/11dX_mR6xWKubBKsgQyhDdN2R6S8oAV4G/view?usp=sharing'\n",
    "path_origen ='https://drive.google.com/uc?id=' + url.split('/')[-2]\n",
    "\n",
    "#Generar carpeta data si no existe, y descargar data cruda del origen\n",
    "if not os.path.exists(RAW_DATA_DIR):\n",
    "    os.makedirs(RAW_DATA_DIR)\n",
    "    print(f'Se creo el directorio: {RAW_DATA_DIR}')\n",
    "  \n",
    "# Importar el conjunto de datos  \n",
    "try:\n",
    "    raw_data_csv = gdown.download(path_origen, RAW_DATA_PATH, quiet=False)\n",
    "    print(f'Se descargó el conjunto de datos de manera existosa en la ruta: {RAW_DATA_PATH}')\n",
    "except:\n",
    "    raise ImportError(\"ERROR al importar los datos.\")"
   ]
  },
  {
   "cell_type": "markdown",
   "id": "84986cce",
   "metadata": {},
   "source": [
    "## 2.2 Exploración Inicial"
   ]
  },
  {
   "cell_type": "markdown",
   "id": "fed5df13",
   "metadata": {},
   "source": [
    "<p style=\"text-align: justify;\">A continuación se creará el DataFrame principal, el cual contiene todos los datos \"en crudo\" del dataset, los cuales se traducen en la totalidad de las quejas presentadas a la CPFB durante un periodo de tiempo determinado con diversas características que serán la base para el modelo que se busca desarrollar. Cabe mencionar que después de una exploración bastante profunda, el DataFrame original se someterá a un proceso de limpieza y de ingeniería de atributos para buscar explotar al máximo la información que pueda brindar para el modelo, por lo que tanto la estructura del DataFrame como las mismas variables que se observan ahora pueden ir cambiando a lo largo del desarrollo del modelo.<p/>"
   ]
  },
  {
   "cell_type": "code",
   "execution_count": 3,
   "id": "ba55519f",
   "metadata": {},
   "outputs": [
    {
     "data": {
      "text/html": [
       "<div>\n",
       "<style scoped>\n",
       "    .dataframe tbody tr th:only-of-type {\n",
       "        vertical-align: middle;\n",
       "    }\n",
       "\n",
       "    .dataframe tbody tr th {\n",
       "        vertical-align: top;\n",
       "    }\n",
       "\n",
       "    .dataframe thead th {\n",
       "        text-align: right;\n",
       "    }\n",
       "</style>\n",
       "<table border=\"1\" class=\"dataframe\">\n",
       "  <thead>\n",
       "    <tr style=\"text-align: right;\">\n",
       "      <th></th>\n",
       "      <th>date_received</th>\n",
       "      <th>product</th>\n",
       "      <th>sub_product</th>\n",
       "      <th>issue</th>\n",
       "      <th>sub_issue</th>\n",
       "      <th>consumer_complaint_narrative</th>\n",
       "      <th>company_public_response</th>\n",
       "      <th>company</th>\n",
       "      <th>state</th>\n",
       "      <th>zipcode</th>\n",
       "      <th>tags</th>\n",
       "      <th>consumer_consent_provided</th>\n",
       "      <th>submitted_via</th>\n",
       "      <th>date_sent_to_company</th>\n",
       "      <th>company_response_to_consumer</th>\n",
       "      <th>timely_response</th>\n",
       "      <th>consumer_disputed?</th>\n",
       "    </tr>\n",
       "    <tr>\n",
       "      <th>complaint_id</th>\n",
       "      <th></th>\n",
       "      <th></th>\n",
       "      <th></th>\n",
       "      <th></th>\n",
       "      <th></th>\n",
       "      <th></th>\n",
       "      <th></th>\n",
       "      <th></th>\n",
       "      <th></th>\n",
       "      <th></th>\n",
       "      <th></th>\n",
       "      <th></th>\n",
       "      <th></th>\n",
       "      <th></th>\n",
       "      <th></th>\n",
       "      <th></th>\n",
       "      <th></th>\n",
       "    </tr>\n",
       "  </thead>\n",
       "  <tbody>\n",
       "    <tr>\n",
       "      <th>511074</th>\n",
       "      <td>08/30/2013</td>\n",
       "      <td>Mortgage</td>\n",
       "      <td>Other mortgage</td>\n",
       "      <td>Loan modification,collection,foreclosure</td>\n",
       "      <td>NaN</td>\n",
       "      <td>NaN</td>\n",
       "      <td>NaN</td>\n",
       "      <td>U.S. Bancorp</td>\n",
       "      <td>CA</td>\n",
       "      <td>95993</td>\n",
       "      <td>NaN</td>\n",
       "      <td>NaN</td>\n",
       "      <td>Referral</td>\n",
       "      <td>09/03/2013</td>\n",
       "      <td>Closed with explanation</td>\n",
       "      <td>Yes</td>\n",
       "      <td>Yes</td>\n",
       "    </tr>\n",
       "    <tr>\n",
       "      <th>511080</th>\n",
       "      <td>08/30/2013</td>\n",
       "      <td>Mortgage</td>\n",
       "      <td>Other mortgage</td>\n",
       "      <td>Loan servicing, payments, escrow account</td>\n",
       "      <td>NaN</td>\n",
       "      <td>NaN</td>\n",
       "      <td>NaN</td>\n",
       "      <td>Wells Fargo &amp; Company</td>\n",
       "      <td>CA</td>\n",
       "      <td>91104</td>\n",
       "      <td>NaN</td>\n",
       "      <td>NaN</td>\n",
       "      <td>Referral</td>\n",
       "      <td>09/03/2013</td>\n",
       "      <td>Closed with explanation</td>\n",
       "      <td>Yes</td>\n",
       "      <td>Yes</td>\n",
       "    </tr>\n",
       "    <tr>\n",
       "      <th>510473</th>\n",
       "      <td>08/30/2013</td>\n",
       "      <td>Credit reporting</td>\n",
       "      <td>NaN</td>\n",
       "      <td>Incorrect information on credit report</td>\n",
       "      <td>Account status</td>\n",
       "      <td>NaN</td>\n",
       "      <td>NaN</td>\n",
       "      <td>Wells Fargo &amp; Company</td>\n",
       "      <td>NY</td>\n",
       "      <td>11764</td>\n",
       "      <td>NaN</td>\n",
       "      <td>NaN</td>\n",
       "      <td>Postal mail</td>\n",
       "      <td>09/18/2013</td>\n",
       "      <td>Closed with explanation</td>\n",
       "      <td>Yes</td>\n",
       "      <td>No</td>\n",
       "    </tr>\n",
       "    <tr>\n",
       "      <th>510326</th>\n",
       "      <td>08/30/2013</td>\n",
       "      <td>Student loan</td>\n",
       "      <td>Non-federal student loan</td>\n",
       "      <td>Repaying your loan</td>\n",
       "      <td>Repaying your loan</td>\n",
       "      <td>NaN</td>\n",
       "      <td>NaN</td>\n",
       "      <td>Navient Solutions, Inc.</td>\n",
       "      <td>MD</td>\n",
       "      <td>21402</td>\n",
       "      <td>NaN</td>\n",
       "      <td>NaN</td>\n",
       "      <td>Email</td>\n",
       "      <td>08/30/2013</td>\n",
       "      <td>Closed with explanation</td>\n",
       "      <td>Yes</td>\n",
       "      <td>Yes</td>\n",
       "    </tr>\n",
       "    <tr>\n",
       "      <th>511067</th>\n",
       "      <td>08/30/2013</td>\n",
       "      <td>Debt collection</td>\n",
       "      <td>Credit card</td>\n",
       "      <td>False statements or representation</td>\n",
       "      <td>Attempted to collect wrong amount</td>\n",
       "      <td>NaN</td>\n",
       "      <td>NaN</td>\n",
       "      <td>Resurgent Capital Services L.P.</td>\n",
       "      <td>GA</td>\n",
       "      <td>30106</td>\n",
       "      <td>NaN</td>\n",
       "      <td>NaN</td>\n",
       "      <td>Web</td>\n",
       "      <td>08/30/2013</td>\n",
       "      <td>Closed with explanation</td>\n",
       "      <td>Yes</td>\n",
       "      <td>Yes</td>\n",
       "    </tr>\n",
       "  </tbody>\n",
       "</table>\n",
       "</div>"
      ],
      "text/plain": [
       "             date_received           product               sub_product  \\\n",
       "complaint_id                                                             \n",
       "511074          08/30/2013          Mortgage            Other mortgage   \n",
       "511080          08/30/2013          Mortgage            Other mortgage   \n",
       "510473          08/30/2013  Credit reporting                       NaN   \n",
       "510326          08/30/2013      Student loan  Non-federal student loan   \n",
       "511067          08/30/2013   Debt collection               Credit card   \n",
       "\n",
       "                                                 issue  \\\n",
       "complaint_id                                             \n",
       "511074        Loan modification,collection,foreclosure   \n",
       "511080        Loan servicing, payments, escrow account   \n",
       "510473          Incorrect information on credit report   \n",
       "510326                              Repaying your loan   \n",
       "511067              False statements or representation   \n",
       "\n",
       "                                      sub_issue consumer_complaint_narrative  \\\n",
       "complaint_id                                                                   \n",
       "511074                                      NaN                          NaN   \n",
       "511080                                      NaN                          NaN   \n",
       "510473                           Account status                          NaN   \n",
       "510326                       Repaying your loan                          NaN   \n",
       "511067        Attempted to collect wrong amount                          NaN   \n",
       "\n",
       "             company_public_response                          company state  \\\n",
       "complaint_id                                                                  \n",
       "511074                           NaN                     U.S. Bancorp    CA   \n",
       "511080                           NaN            Wells Fargo & Company    CA   \n",
       "510473                           NaN            Wells Fargo & Company    NY   \n",
       "510326                           NaN          Navient Solutions, Inc.    MD   \n",
       "511067                           NaN  Resurgent Capital Services L.P.    GA   \n",
       "\n",
       "             zipcode tags consumer_consent_provided submitted_via  \\\n",
       "complaint_id                                                        \n",
       "511074         95993  NaN                       NaN      Referral   \n",
       "511080         91104  NaN                       NaN      Referral   \n",
       "510473         11764  NaN                       NaN   Postal mail   \n",
       "510326         21402  NaN                       NaN         Email   \n",
       "511067         30106  NaN                       NaN           Web   \n",
       "\n",
       "             date_sent_to_company company_response_to_consumer  \\\n",
       "complaint_id                                                     \n",
       "511074                 09/03/2013      Closed with explanation   \n",
       "511080                 09/03/2013      Closed with explanation   \n",
       "510473                 09/18/2013      Closed with explanation   \n",
       "510326                 08/30/2013      Closed with explanation   \n",
       "511067                 08/30/2013      Closed with explanation   \n",
       "\n",
       "             timely_response consumer_disputed?  \n",
       "complaint_id                                     \n",
       "511074                   Yes                Yes  \n",
       "511080                   Yes                Yes  \n",
       "510473                   Yes                 No  \n",
       "510326                   Yes                Yes  \n",
       "511067                   Yes                Yes  "
      ]
     },
     "execution_count": 3,
     "metadata": {},
     "output_type": "execute_result"
    }
   ],
   "source": [
    "#Leer el archivo y crear el DataFrame.\n",
    "df = pd.read_csv(raw_data_csv, index_col = 17, low_memory=False)\n",
    "df.head(5)"
   ]
  },
  {
   "cell_type": "code",
   "execution_count": 4,
   "id": "742aff0f",
   "metadata": {},
   "outputs": [
    {
     "name": "stdout",
     "output_type": "stream",
     "text": [
      "<class 'pandas.core.frame.DataFrame'>\n",
      "Index: 555957 entries, 511074 to 984116\n",
      "Data columns (total 17 columns):\n",
      " #   Column                        Non-Null Count   Dtype \n",
      "---  ------                        --------------   ----- \n",
      " 0   date_received                 555957 non-null  object\n",
      " 1   product                       555957 non-null  object\n",
      " 2   sub_product                   397635 non-null  object\n",
      " 3   issue                         555957 non-null  object\n",
      " 4   sub_issue                     212622 non-null  object\n",
      " 5   consumer_complaint_narrative  66806 non-null   object\n",
      " 6   company_public_response       85124 non-null   object\n",
      " 7   company                       555957 non-null  object\n",
      " 8   state                         551070 non-null  object\n",
      " 9   zipcode                       551452 non-null  object\n",
      " 10  tags                          77959 non-null   object\n",
      " 11  consumer_consent_provided     123458 non-null  object\n",
      " 12  submitted_via                 555957 non-null  object\n",
      " 13  date_sent_to_company          555957 non-null  object\n",
      " 14  company_response_to_consumer  555957 non-null  object\n",
      " 15  timely_response               555957 non-null  object\n",
      " 16  consumer_disputed?            555957 non-null  object\n",
      "dtypes: object(17)\n",
      "memory usage: 76.3+ MB\n"
     ]
    }
   ],
   "source": [
    "# Observar estructura del DataFrame\n",
    "df.info()"
   ]
  },
  {
   "cell_type": "markdown",
   "id": "37c253a6",
   "metadata": {},
   "source": [
    "<p style=\"text-align: justify;\">Se puede observar un DataFrame con una cantidad relevante de variables, las cuales podrían ser beneficiosas o no para el modelo que se plantea llevar a cabo, por lo que es de gran importancia hacer un análisis y profundizar en cada una de ellas. A continuación, se presenta una breve descripción sobre cada una de las columnas que componen el dataset:<p/>"
   ]
  },
  {
   "cell_type": "markdown",
   "id": "bf3c162f",
   "metadata": {},
   "source": [
    "|      Variable (Col.)      |      Tipo      |      Descripción      |\n",
    "|:------------------:|:------------------:|:------------------:|\n",
    "|   *complaint_id*     |     **Nominal**          |     Identificador único para cada una de las quejas o registros (índice).          |\n",
    "|  *date_received*     |     **Intérvalo**          |     Fecha en la cuál la Oficina para la Protección Financiera del Consumidor recibió la queja.          |\n",
    "|     *product*          |      **Nominal**          |     Categoría que hace referencia al producto financiero sobre el cuál se emitió la queja.          |\n",
    "|     *sub_product*          |      **Nominal**          |     Subcategoría que detalla más a fondo el producto o servicio que produjo la inconformidad.          |\n",
    "|     *issue*          |      **Nominal**          |     Indica de manera categórica el problema que tuvo el usuario.          |\n",
    "|     *sub_issue*          |      **Nominal**          |     Indica de manera más profunda el problema que tuvo el usuario.          |\n",
    "|     *consumer_complaint_narrative*          |      **Nominal**          |     Narrativa del cliente sobre el problema que lo llevó a realizar la queja.          |\n",
    "|     *company_public_response*          |      **Nominal**          |     Nos muestra de manera categorizada la respuesta pública opcional de la compañía sobre la queja.          |\n",
    "|     *company*          |      **Nominal**          |     Compañía que presta el servicio financiero al usuario sobre el cual se realizó la queja.          |\n",
    "|     *State*          |      **Nominal**          |     Estado en el que se presentó la queja (incluyendo colonias americanas fuera del país).          |\n",
    "|     *zipcode*          |      **Nominal**          |     Código postal del cliente que presentó la queja.          |\n",
    "|     *tags*          |      **Nominal**          |     Indica si se trata de una persona de la tercera edad, de una persona que sirve a las fuerzas armadas o ambas.          |\n",
    "|     *consumer_consent_provided*          |      **Nominal**          |     Muestra de manera categórica el estatus del consentimiento del usuario, es decir, si optó por publicar su narrativa de queja.          |\n",
    "|     *submitted_via*          |      **Nominal**          |     El medio a través del cual el cliente presentó la queja.          |\n",
    "|     *date_sent_to_company*          |      **Intérvalo**          |     Fecha en la que la Oficina para la Protección Financiera del Consumidor notificó la queja a la compañía.          |\n",
    "|     *company_response_to_consumer*          |      **Nominal**          |     Muestra de manera categorizada la manera como respondió la compañía al usuario sobre la queja.          |\n",
    "|     *timely_response*          |      **Nominal**          |     Menciona si la compañía dio una respuesta oportuna.          |\n",
    "|     *consumer_disputed?*          |      **Nominal**          |     Indica si el consumidor ha disputado la respuesta proporcionada por la compañía. Si el valor es \"Sí\", significa que el consumidor no estuvo de acuerdo con la respuesta de la compañía. Si el valor es \"No\", significa que el consumidor aceptó la respuesta de la compañía.          |"
   ]
  },
  {
   "cell_type": "markdown",
   "id": "33a9cbdd",
   "metadata": {},
   "source": [
    "Se han obtenido algúnas primeras impresiones luego de haber revisado detalladamente cada una de las columnas del dataset:\n",
    "\n",
    "\n",
    "- <p style=\"text-align: justify;\">La columna <b><i>subproduct</i></b> cuenta con una gran cantidad de valores nulos, por lo que se podría evaluar basar el análisis únicamente con el producto principal. Lo mismo sucede con la columna \"subissue\", por lo que se podría basar en el problema principal.<p/>\n",
    "\n",
    "\n",
    "- <p style=\"text-align: justify;\">La columna <b><i>consumer_complaint_narrative</i></b> presenta la narrativa del usuario al presentar la queja, sin embargo, cuenta con una gran cantidad de valores nulos, se podría prescindir de ella una vez que se hayan explorado los registros (sería bastante útil para un proyecto de text analytics).<p/>\n",
    "\n",
    "\n",
    "- <p style=\"text-align: justify;\">La columna <b><i>company_public response</i></b> muestra la respuesta pública de la compañía una vez que se revisó la queja, por lo que se puede intuir que los valores nulos se generaron debido a que la compañía decidió no exponer dicha información.<p/>\n",
    "\n",
    "\n",
    "- <p style=\"text-align: justify;\">Dentro de las columnas <b><i>state</i></b> y <b><i>zipcode</i></b> se pueden encontrar registros vacios. En el caso de los zipcodes se pueden observar de igual manera algunos datos sucios, como por ejemplo valores que termian con caracteres invalidos (zipcode = 55XXX). Por otro lado, en cuanto a los registros con información nula sobre el estado, se verificará si se cuenta con el registro del zipcode, para poder llenarlos de manera idónea. En caso de que no se cuente con esa información, se podría optar por eliminar esos registros, en caso de que se encuentre alta relevancia en estas dos variables.<p/>\n",
    "\n",
    "\n",
    "- <p style=\"text-align: justify;\">En la columna <b><i>tags</i></b>, se puede entender que todos los valores nulos hacen referencia a que los usuarios no pertenecen a ninguno de los grupos previamente mencionados, por lo que se generará una etiqueta para hacer mención que no pertenecen a estos grupos.<p/>\n",
    "\n",
    "\n",
    "- <p style=\"text-align: justify;\">Finalmente, en la columna <b><i>consumer_consent_provided</i></b> sucede algo similar a la respuesta pública de la empresa, y en caso de no ser relevante se eliminará y no será tomada en cuenta en el modelo.<p/>"
   ]
  }
 ],
 "metadata": {
  "kernelspec": {
   "display_name": "env",
   "language": "python",
   "name": "python3"
  },
  "language_info": {
   "codemirror_mode": {
    "name": "ipython",
    "version": 3
   },
   "file_extension": ".py",
   "mimetype": "text/x-python",
   "name": "python",
   "nbconvert_exporter": "python",
   "pygments_lexer": "ipython3",
   "version": "3.12.6"
  }
 },
 "nbformat": 4,
 "nbformat_minor": 5
}
